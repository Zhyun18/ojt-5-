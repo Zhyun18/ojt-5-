{
 "cells": [
  {
   "cell_type": "code",
   "execution_count": 9,
   "metadata": {},
   "outputs": [],
   "source": [
    "# import package \n",
    "from sklearn.datasets import load_iris \n",
    "from sklearn.naive_bayes import GaussianNB \n",
    "from sklearn.model_selection import train_test_split\n",
    "from sklearn.metrics import accuracy_score, confusion_matrix, precision_score, recall_score, f1_score  "
   ]
  },
  {
   "cell_type": "code",
   "execution_count": 3,
   "metadata": {},
   "outputs": [],
   "source": [
    "# load the datasets \n",
    "x,y=load_iris(return_X_y=True)\n",
    "\n",
    "# split the datasets \n",
    "x_train,x_test,y_train,y_test=train_test_split(x,y,train_size=0.3,stratify=y,random_state=1)"
   ]
  },
  {
   "cell_type": "code",
   "execution_count": 4,
   "metadata": {},
   "outputs": [
    {
     "data": {
      "text/plain": [
       "GaussianNB()"
      ]
     },
     "execution_count": 4,
     "metadata": {},
     "output_type": "execute_result"
    }
   ],
   "source": [
    "# instantiate model \n",
    "model=GaussianNB()\n",
    "model.fit(x_train,y_train)"
   ]
  },
  {
   "cell_type": "code",
   "execution_count": 6,
   "metadata": {},
   "outputs": [
    {
     "name": "stdout",
     "output_type": "stream",
     "text": [
      "정확도: 0.943\n"
     ]
    }
   ],
   "source": [
    "# predict \n",
    "y_hat=model.predict(x_test) \n",
    "\n",
    "# accuracy\n",
    "accuracy=accuracy_score(y_test,y_hat)\n",
    "print(f'정확도: {accuracy:.03f}')"
   ]
  },
  {
   "cell_type": "code",
   "execution_count": 7,
   "metadata": {},
   "outputs": [
    {
     "data": {
      "text/plain": [
       "array([[35,  0,  0],\n",
       "       [ 0, 30,  5],\n",
       "       [ 0,  1, 34]], dtype=int64)"
      ]
     },
     "execution_count": 7,
     "metadata": {},
     "output_type": "execute_result"
    }
   ],
   "source": [
    "# confusion matrix \n",
    "cm=confusion_matrix(y_test,y_hat)\n",
    "cm "
   ]
  },
  {
   "cell_type": "code",
   "execution_count": 15,
   "metadata": {},
   "outputs": [
    {
     "name": "stdout",
     "output_type": "stream",
     "text": [
      "precision : 0.943\n",
      "recall : 0.943\n",
      "f1 : 0.943\n"
     ]
    }
   ],
   "source": [
    "# precision \n",
    "precision=precision_score(y_test,y_hat,average='micro')\n",
    "print(f'precision : {precision:.03f}') \n",
    "\n",
    "# recall \n",
    "recall=recall_score(y_test,y_hat,average='micro')\n",
    "print(f'recall : {recall:.03f}')\n",
    "\n",
    "# f1_score \n",
    "f1=f1_score(y_test,y_hat,average='micro')\n",
    "print(f'f1 : {f1:.03f}')"
   ]
  },
  {
   "cell_type": "code",
   "execution_count": null,
   "metadata": {},
   "outputs": [],
   "source": []
  },
  {
   "cell_type": "code",
   "execution_count": null,
   "metadata": {},
   "outputs": [],
   "source": []
  }
 ],
 "metadata": {
  "kernelspec": {
   "display_name": "venv",
   "language": "python",
   "name": "venv"
  },
  "language_info": {
   "codemirror_mode": {
    "name": "ipython",
    "version": 3
   },
   "file_extension": ".py",
   "mimetype": "text/x-python",
   "name": "python",
   "nbconvert_exporter": "python",
   "pygments_lexer": "ipython3",
   "version": "3.8.5"
  }
 },
 "nbformat": 4,
 "nbformat_minor": 2
}
