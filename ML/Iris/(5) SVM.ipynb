{
 "cells": [
  {
   "cell_type": "code",
   "execution_count": 23,
   "metadata": {},
   "outputs": [],
   "source": [
    "# import dataset\n",
    "from sklearn.datasets import load_iris \n",
    "\n",
    "# import model \n",
    "from sklearn.svm import SVC, LinearSVC\n",
    "from sklearn.model_selection import train_test_split \n",
    "\n",
    "# import metrics \n",
    "from sklearn.metrics import confusion_matrix, accuracy_score, precision_score, recall_score, f1_score\n",
    "\n",
    "# import svm, StandScaler \n",
    "from sklearn.svm import SVC \n",
    "from sklearn.preprocessing import StandardScaler"
   ]
  },
  {
   "cell_type": "code",
   "execution_count": 24,
   "metadata": {},
   "outputs": [],
   "source": [
    "# load the dataset\n",
    "x,y=load_iris(return_X_y=True)\n",
    "\n",
    "# split the dataset\n",
    "x_train,x_test,y_train,y_test=train_test_split(x,y,test_size=0.3,stratify=y) "
   ]
  },
  {
   "cell_type": "code",
   "execution_count": 25,
   "metadata": {},
   "outputs": [],
   "source": [
    "# create a svm Classifier\n",
    "model=SVC(kernel='linear') # linear kernel \n",
    "\n",
    "# Train the model\n",
    "model.fit(x_train,y_train)\n",
    "\n",
    "# predict for the test dataset\n",
    "y_hat=model.predict(x_test)"
   ]
  },
  {
   "cell_type": "code",
   "execution_count": 32,
   "metadata": {},
   "outputs": [
    {
     "name": "stdout",
     "output_type": "stream",
     "text": [
      "accuracy : 1.000\n",
      "precision : 1.000\n",
      "recall : 1.000\n",
      "f1 : 1.000\n",
      "[[15  0  0]\n",
      " [ 0 15  0]\n",
      " [ 0  0 15]]\n"
     ]
    }
   ],
   "source": [
    "# Evaluate the model \n",
    "accuracy=accuracy_score(y_hat,y_test)\n",
    "print(f'accuracy : {accuracy:.03f}')\n",
    "\n",
    "# precision \n",
    "precision=precision_score(y_hat,y_test,average='micro')\n",
    "print(f'precision : {precision:.03f}')\n",
    "\n",
    "# recall \n",
    "recall=recall_score(y_hat,y_test,average='micro')\n",
    "print(f'recall : {recall:.03f}')\n",
    "\n",
    "# f1 \n",
    "f1=f1_score(y_hat,y_test, average='micro')\n",
    "print(f'f1 : {f1:.03f}')\n",
    "\n",
    "# cm \n",
    "cm=confusion_matrix(y_test,y_hat)\n",
    "print(cm)"
   ]
  },
  {
   "cell_type": "code",
   "execution_count": null,
   "metadata": {},
   "outputs": [],
   "source": []
  },
  {
   "cell_type": "code",
   "execution_count": null,
   "metadata": {},
   "outputs": [],
   "source": []
  },
  {
   "cell_type": "code",
   "execution_count": null,
   "metadata": {},
   "outputs": [],
   "source": []
  },
  {
   "cell_type": "code",
   "execution_count": null,
   "metadata": {},
   "outputs": [],
   "source": []
  }
 ],
 "metadata": {
  "kernelspec": {
   "display_name": "venv",
   "language": "python",
   "name": "venv"
  },
  "language_info": {
   "codemirror_mode": {
    "name": "ipython",
    "version": 3
   },
   "file_extension": ".py",
   "mimetype": "text/x-python",
   "name": "python",
   "nbconvert_exporter": "python",
   "pygments_lexer": "ipython3",
   "version": "3.8.5"
  }
 },
 "nbformat": 4,
 "nbformat_minor": 2
}
