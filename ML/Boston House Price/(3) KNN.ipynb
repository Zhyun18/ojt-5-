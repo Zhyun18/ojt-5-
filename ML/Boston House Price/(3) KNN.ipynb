{
 "cells": [
  {
   "cell_type": "code",
   "execution_count": 1,
   "metadata": {},
   "outputs": [],
   "source": [
    "# import package \n",
    "from sklearn.datasets import load_boston\n",
    "from sklearn.neighbors import KNeighborsRegressor\n",
    "from sklearn.model_selection import train_test_split\n",
    "from sklearn.preprocessing import StandardScaler\n",
    "from sklearn.model_selection import GridSearchCV \n",
    "import pandas as pd \n",
    "import numpy as np "
   ]
  },
  {
   "cell_type": "code",
   "execution_count": 4,
   "metadata": {},
   "outputs": [
    {
     "data": {
      "text/plain": [
       "((354, 13), (152, 13), (354,), (152,))"
      ]
     },
     "execution_count": 4,
     "metadata": {},
     "output_type": "execute_result"
    }
   ],
   "source": [
    "# load the datasets \n",
    "x,y=load_boston(return_X_y=True) \n",
    "\n",
    "# split the datasets \n",
    "x_train,x_test,y_train,y_test=train_test_split(x,y,test_size=0.3,random_state=1)\n",
    "x_train.shape,x_test.shape,y_train.shape,y_test.shape "
   ]
  },
  {
   "cell_type": "code",
   "execution_count": 5,
   "metadata": {},
   "outputs": [],
   "source": [
    "# scaling \n",
    "scaler=StandardScaler()\n",
    "x_train=scaler.fit_transform(x_train)\n",
    "x_test=scaler.fit_transform(x_test)"
   ]
  },
  {
   "cell_type": "code",
   "execution_count": 7,
   "metadata": {},
   "outputs": [
    {
     "data": {
      "text/plain": [
       "GridSearchCV(cv=5, estimator=KNeighborsRegressor(), n_jobs=-1,\n",
       "             param_grid=[{'n_neighbors': range(3, 10)}], scoring='r2')"
      ]
     },
     "execution_count": 7,
     "metadata": {},
     "output_type": "execute_result"
    }
   ],
   "source": [
    "# KNN MOdel + GridSearchCV\n",
    "knn=KNeighborsRegressor()\n",
    "param_grid=[{'n_neighbors': range(3,10)}]\n",
    "gs=GridSearchCV(estimator=knn, param_grid=param_grid, scoring='r2', cv=5, n_jobs=-1)\n",
    "gs.fit(x_train,y_train)"
   ]
  },
  {
   "cell_type": "code",
   "execution_count": 10,
   "metadata": {},
   "outputs": [
    {
     "name": "stdout",
     "output_type": "stream",
     "text": [
      "best hyper parameter : {'n_neighbors': 3}\n",
      "best params r2 score:0.715\n"
     ]
    }
   ],
   "source": [
    "# 학습결과\n",
    "print(f'best hyper parameter : {gs.best_params_}')\n",
    "print(f'best params r2 score:{gs.best_score_:.03f}')\n"
   ]
  },
  {
   "cell_type": "code",
   "execution_count": 12,
   "metadata": {},
   "outputs": [
    {
     "name": "stdout",
     "output_type": "stream",
     "text": [
      "테스트 세트 r2 score : 0.805\n"
     ]
    }
   ],
   "source": [
    "# 테스트 세트 r2 score\n",
    "model=gs.best_estimator_\n",
    "r2=model.score(x_test,y_test)\n",
    "print(f'테스트 세트 r2 score : {r2:.03f}')"
   ]
  },
  {
   "cell_type": "code",
   "execution_count": 13,
   "metadata": {},
   "outputs": [
    {
     "name": "stdout",
     "output_type": "stream",
     "text": [
      "실제값 :28.200, 예측값:28.267\n",
      "실제값 :23.900, 예측값:22.533\n",
      "실제값 :16.600, 예측값:19.900\n",
      "실제값 :22.000, 예측값:20.000\n",
      "실제값 :20.800, 예측값:19.233\n",
      "실제값 :23.000, 예측값:18.633\n",
      "실제값 :27.900, 예측값:26.133\n",
      "실제값 :14.500, 예측값:17.267\n",
      "실제값 :21.500, 예측값:22.133\n",
      "실제값 :22.600, 예측값:26.533\n"
     ]
    }
   ],
   "source": [
    "# 테스트 세트 예측결과 샘플 출력\n",
    "y_hat=model.predict(x_test)\n",
    "for i in range(10):\n",
    "    print(f'실제값 :{y_test[i]:.03f}, 예측값:{y_hat[i]:.03f}')"
   ]
  },
  {
   "cell_type": "code",
   "execution_count": null,
   "metadata": {},
   "outputs": [],
   "source": []
  }
 ],
 "metadata": {
  "kernelspec": {
   "display_name": "venv",
   "language": "python",
   "name": "venv"
  },
  "language_info": {
   "codemirror_mode": {
    "name": "ipython",
    "version": 3
   },
   "file_extension": ".py",
   "mimetype": "text/x-python",
   "name": "python",
   "nbconvert_exporter": "python",
   "pygments_lexer": "ipython3",
   "version": "3.8.5"
  }
 },
 "nbformat": 4,
 "nbformat_minor": 2
}
